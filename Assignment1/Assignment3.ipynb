{
 "cells": [
  {
   "cell_type": "markdown",
   "metadata": {},
   "source": [
    "# Assignment 3"
   ]
  },
  {
   "cell_type": "code",
   "execution_count": 1,
   "metadata": {},
   "outputs": [],
   "source": [
    "import numpy as np"
   ]
  },
  {
   "cell_type": "markdown",
   "metadata": {},
   "source": [
    "### 1. Create a function which creates an n×n array with (i,j)-entry equal to i+j."
   ]
  },
  {
   "cell_type": "code",
   "execution_count": 2,
   "metadata": {},
   "outputs": [
    {
     "name": "stdout",
     "output_type": "stream",
     "text": [
      "[[ 0.  1.  2.  3.  4.]\n",
      " [ 1.  2.  3.  4.  5.]\n",
      " [ 2.  3.  4.  5.  6.]\n",
      " [ 3.  4.  5.  6.  7.]\n",
      " [ 4.  5.  6.  7.  8.]]\n"
     ]
    }
   ],
   "source": [
    "def nparr(n):\n",
    "    arr = np.zeros((n, n))\n",
    "    for x in range(1,n):\n",
    "        arr[x:n] = arr[x:n] + 1\n",
    "        arr[:,x:n] = arr[:,x:n] + 1\n",
    "    return arr\n",
    "print(nparr(5))"
   ]
  },
  {
   "cell_type": "markdown",
   "metadata": {},
   "source": [
    "### 2. Create a numpy array which contains odd numbers below 20. Arrange it to a 2x5 matrix. Compute the log of each element"
   ]
  },
  {
   "cell_type": "code",
   "execution_count": 3,
   "metadata": {},
   "outputs": [
    {
     "name": "stdout",
     "output_type": "stream",
     "text": [
      "Reshaped Array\n",
      "[[ 1  3  5  7  9]\n",
      " [11 13 15 17 19]]\n",
      "Log of Array\n",
      "[[ 0.          1.09861229  1.60943791  1.94591015  2.19722458]\n",
      " [ 2.39789527  2.56494936  2.7080502   2.83321334  2.94443898]]\n"
     ]
    }
   ],
   "source": [
    "oddns = np.arange(1,20,2)\n",
    "reshaped = oddns.reshape((2,5))\n",
    "print(\"Reshaped Array\")\n",
    "print(reshaped)\n",
    "logns = np.log(reshaped)\n",
    "print(\"Log of Array\")\n",
    "print(logns)"
   ]
  },
  {
   "cell_type": "markdown",
   "metadata": {},
   "source": [
    "### 3. Create a function which creates an n×n random array. Subtract the average of each row of the matrix "
   ]
  },
  {
   "cell_type": "code",
   "execution_count": 4,
   "metadata": {},
   "outputs": [
    {
     "name": "stdout",
     "output_type": "stream",
     "text": [
      "Random Array\n",
      "[[ 0.5378855   0.85059423  0.96913329]\n",
      " [ 0.27495396  0.42011504  0.82538333]\n",
      " [ 0.61526619  0.4362223   0.38394601]]\n",
      "Avg Array\n",
      "[[-0.24798551  0.06472322  0.18326228]\n",
      " [-0.23186348 -0.08670241  0.31856589]\n",
      " [ 0.13678802 -0.04225587 -0.09453215]]\n"
     ]
    }
   ],
   "source": [
    "def avg (a):\n",
    "    return a-np.average(a)\n",
    "\n",
    "def nprand(n):\n",
    "    return np.random.rand(n,n)\n",
    "\n",
    "arr = nprand(3)\n",
    "print(\"Random Array\")\n",
    "print(arr)\n",
    "new = np.apply_along_axis(avg, 1, arr)\n",
    "print(\"Avg Array\")\n",
    "print(new)"
   ]
  },
  {
   "cell_type": "markdown",
   "metadata": {},
   "source": [
    "### 4. Create a function which creates an n×n random array. Write a program to find the nearest value from a given value in the array"
   ]
  },
  {
   "cell_type": "code",
   "execution_count": 5,
   "metadata": {},
   "outputs": [
    {
     "name": "stdout",
     "output_type": "stream",
     "text": [
      "Random Array\n",
      "[[ 0.22642456  0.17353482  0.71666635  0.12015425]\n",
      " [ 0.86984192  0.73163239  0.57736296  0.23510477]\n",
      " [ 0.9597554   0.55454949  0.33225608  0.0037685 ]\n",
      " [ 0.78278823  0.07640925  0.87503717  0.92268746]]\n",
      "Nearest Value\n",
      "0.554549486538\n"
     ]
    }
   ],
   "source": [
    "def nprand(n):\n",
    "    return np.random.rand(n,n)\n",
    "\n",
    "n = 4\n",
    "val = 0.5\n",
    "\n",
    "arr = nprand(n)\n",
    "print(\"Random Array\")\n",
    "print(arr)\n",
    "index = np.argmin([np.abs(arr-val)])\n",
    "print(\"Nearest Value\")\n",
    "print(arr.flat[index])"
   ]
  },
  {
   "cell_type": "markdown",
   "metadata": {},
   "source": [
    "### 5. Write a function to check if two random arrays are equal or not"
   ]
  },
  {
   "cell_type": "code",
   "execution_count": 6,
   "metadata": {},
   "outputs": [
    {
     "name": "stdout",
     "output_type": "stream",
     "text": [
      "True\n",
      "False\n",
      "False\n"
     ]
    }
   ],
   "source": [
    "def check_equal(a,b):\n",
    "    return np.array_equal(a,b)\n",
    "\n",
    "print(check_equal([1, 2], [1, 2]))\n",
    "print(check_equal([1, 2], [1, 2, 3]))\n",
    "print(check_equal([1, 2], [1, 4]))"
   ]
  },
  {
   "cell_type": "markdown",
   "metadata": {},
   "source": [
    "### 6. Create a function to get the n largest values of an array"
   ]
  },
  {
   "cell_type": "code",
   "execution_count": 7,
   "metadata": {},
   "outputs": [
    {
     "name": "stdout",
     "output_type": "stream",
     "text": [
      "Random array\n",
      "[6 6 7 6 5 0 7 2 4 8]\n",
      "[8 7 7 6]\n"
     ]
    }
   ],
   "source": [
    "def nlarge(arr,n):\n",
    "    arr = np.sort(arr)[::-1]\n",
    "    return arr[:n]\n",
    "\n",
    "n = 4\n",
    "\n",
    "arr = np.random.randint(9,size=10)\n",
    "print(\"Random array\")\n",
    "print(arr)\n",
    "print(nlarge(arr, n))"
   ]
  },
  {
   "cell_type": "code",
   "execution_count": null,
   "metadata": {},
   "outputs": [],
   "source": []
  }
 ],
 "metadata": {
  "kernelspec": {
   "display_name": "Python 3",
   "language": "python",
   "name": "python3"
  },
  "language_info": {
   "codemirror_mode": {
    "name": "ipython",
    "version": 3
   },
   "file_extension": ".py",
   "mimetype": "text/x-python",
   "name": "python",
   "nbconvert_exporter": "python",
   "pygments_lexer": "ipython3",
   "version": "3.6.3"
  }
 },
 "nbformat": 4,
 "nbformat_minor": 2
}
